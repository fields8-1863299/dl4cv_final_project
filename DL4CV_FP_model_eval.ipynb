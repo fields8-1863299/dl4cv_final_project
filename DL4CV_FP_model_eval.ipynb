{
  "nbformat": 4,
  "nbformat_minor": 0,
  "metadata": {
    "colab": {
      "provenance": []
    },
    "kernelspec": {
      "name": "python3",
      "display_name": "Python 3"
    },
    "language_info": {
      "name": "python"
    },
    "gpuClass": "standard"
  },
  "cells": [
    {
      "cell_type": "code",
      "execution_count": null,
      "metadata": {
        "id": "M917k1cp8hOU"
      },
      "outputs": [],
      "source": [
        "import numpy as np\n",
        "import tensorflow as tf\n",
        "from tensorflow import keras\n",
        "import shutil\n",
        "import os\n",
        "\n",
        "from sklearn.metrics import classification_report\n",
        "\n",
        "LABELS = ['negative', 'other', 'positive']"
      ]
    },
    {
      "cell_type": "markdown",
      "source": [
        "# Load Data"
      ],
      "metadata": {
        "id": "a2x6TD0S9o31"
      }
    },
    {
      "cell_type": "code",
      "source": [
        "shutil.unpack_archive(\"/content/drive/MyDrive/Data Science - Master Notes/DL4CV Final Project/data-emotion-dataset.zip\", \"/emotion-dataset\")\n",
        "shutil.unpack_archive(\"/content/drive/MyDrive/Data Science - Master Notes/DL4CV Final Project/data-wikiart-emotion-dataset.zip\", \"/wikiart-emotion-dataset\")"
      ],
      "metadata": {
        "id": "OH_Obann9yxd"
      },
      "execution_count": null,
      "outputs": []
    },
    {
      "cell_type": "code",
      "source": [
        "paths = [\n",
        "    '/data/test/negative',\n",
        "    '/data/test/other',\n",
        "    '/data/test/positive',\n",
        "    '/data/train/negative',\n",
        "    '/data/train/other',\n",
        "    '/data/train/positive',\n",
        "    '/data/validation/negative',\n",
        "    '/data/validation/other',\n",
        "    '/data/validation/positive',\n",
        "]"
      ],
      "metadata": {
        "id": "E8-LctzY953u"
      },
      "execution_count": null,
      "outputs": []
    },
    {
      "cell_type": "code",
      "source": [
        "newpath = '/content/data' \n",
        "if not os.path.exists(newpath):\n",
        "    os.makedirs(newpath)\n",
        "\n",
        "newpath = '/content/data/train' \n",
        "if not os.path.exists(newpath):\n",
        "    os.makedirs(newpath)\n",
        "\n",
        "newpath = '/content/data/train/positive' \n",
        "if not os.path.exists(newpath):\n",
        "    os.makedirs(newpath)\n",
        "newpath = '/content/data/train/negative' \n",
        "if not os.path.exists(newpath):\n",
        "    os.makedirs(newpath)\n",
        "newpath = '/content/data/train/other' \n",
        "if not os.path.exists(newpath):\n",
        "    os.makedirs(newpath)\n",
        "\n",
        "newpath = '/content/data/validation' \n",
        "if not os.path.exists(newpath):\n",
        "    os.makedirs(newpath)\n",
        "\n",
        "newpath = '/content/data/validation/positive' \n",
        "if not os.path.exists(newpath):\n",
        "    os.makedirs(newpath)\n",
        "newpath = '/content/data/validation/negative' \n",
        "if not os.path.exists(newpath):\n",
        "    os.makedirs(newpath)\n",
        "newpath = '/content/data/validation/other' \n",
        "if not os.path.exists(newpath):\n",
        "    os.makedirs(newpath)\n",
        "\n",
        "newpath = '/content/data/test' \n",
        "if not os.path.exists(newpath):\n",
        "    os.makedirs(newpath)\n",
        "\n",
        "newpath = '/content/data/test/positive' \n",
        "if not os.path.exists(newpath):\n",
        "    os.makedirs(newpath)\n",
        "newpath = '/content/data/test/negative' \n",
        "if not os.path.exists(newpath):\n",
        "    os.makedirs(newpath)\n",
        "newpath = '/content/data/test/other' \n",
        "if not os.path.exists(newpath):\n",
        "    os.makedirs(newpath)"
      ],
      "metadata": {
        "id": "RhNW7vuu96wc"
      },
      "execution_count": null,
      "outputs": []
    },
    {
      "cell_type": "code",
      "source": [
        "for p in paths:\n",
        "  imgs = os.listdir('/emotion-dataset/content' + p)\n",
        "  for img in imgs:\n",
        "    current_path = '/emotion-dataset/content' + p + '/' + img\n",
        "    new_path = '/content/' + p + '/' + img\n",
        "    shutil.copy(current_path, new_path)\n",
        "\n",
        "for p in paths:\n",
        "  imgs = os.listdir('/wikiart-emotion-dataset/content' + p)\n",
        "  for img in imgs:\n",
        "    current_path = '/wikiart-emotion-dataset/content' + p + '/' + img\n",
        "    new_path = '/content/' + p + '/' + img\n",
        "    shutil.copy(current_path, new_path)"
      ],
      "metadata": {
        "id": "dSJrvkUa-Erz"
      },
      "execution_count": null,
      "outputs": []
    },
    {
      "cell_type": "code",
      "source": [
        "image_size = (128, 128)\n",
        "batch_size = 128\n",
        "\n",
        "emotion_dataset_train = tf.keras.preprocessing.image_dataset_from_directory(\n",
        "    '/content/data/train',\n",
        "    labels=\"inferred\",\n",
        "    label_mode=\"categorical\",\n",
        "    class_names=None,\n",
        "    color_mode=\"rgb\",\n",
        "    batch_size=batch_size,\n",
        "    image_size=image_size,\n",
        "    shuffle=True,\n",
        "    seed=None,\n",
        "    validation_split=None,\n",
        "    subset=None,\n",
        "    interpolation=\"bilinear\",\n",
        "    follow_links=False,\n",
        "    crop_to_aspect_ratio=False,\n",
        ")\n",
        "\n",
        "emotion_dataset_val = tf.keras.preprocessing.image_dataset_from_directory(\n",
        "    '/content/data/validation',\n",
        "    labels=\"inferred\",\n",
        "    label_mode=\"categorical\",\n",
        "    class_names=None,\n",
        "    color_mode=\"rgb\",\n",
        "    batch_size=batch_size,\n",
        "    image_size=image_size,\n",
        "    shuffle=True,\n",
        "    seed=None,\n",
        "    validation_split=None,\n",
        "    subset=None,\n",
        "    interpolation=\"bilinear\",\n",
        "    follow_links=False,\n",
        "    crop_to_aspect_ratio=False,\n",
        ")\n",
        "\n",
        "emotion_dataset_test = tf.keras.preprocessing.image_dataset_from_directory(\n",
        "    '/content/data/test',\n",
        "    labels=\"inferred\",\n",
        "    label_mode=\"categorical\",\n",
        "    class_names=None,\n",
        "    color_mode=\"rgb\",\n",
        "    batch_size=batch_size,\n",
        "    image_size=image_size,\n",
        "    shuffle=True,\n",
        "    seed=None,\n",
        "    validation_split=None,\n",
        "    subset=None,\n",
        "    interpolation=\"bilinear\",\n",
        "    follow_links=False,\n",
        "    crop_to_aspect_ratio=False,\n",
        ")"
      ],
      "metadata": {
        "colab": {
          "base_uri": "https://localhost:8080/"
        },
        "id": "B2uZU7m095_C",
        "outputId": "49f69870-e496-45e5-d3cb-7e690c7152f0"
      },
      "execution_count": null,
      "outputs": [
        {
          "output_type": "stream",
          "name": "stdout",
          "text": [
            "Found 12055 files belonging to 3 classes.\n",
            "Found 4765 files belonging to 3 classes.\n",
            "Found 7555 files belonging to 3 classes.\n"
          ]
        }
      ]
    },
    {
      "cell_type": "code",
      "source": [
        "WA_emotion_dataset_train = tf.keras.preprocessing.image_dataset_from_directory(\n",
        "    '/wikiart-emotion-dataset/content/data/train',\n",
        "    labels=\"inferred\",\n",
        "    label_mode=\"categorical\",\n",
        "    class_names=None,\n",
        "    color_mode=\"rgb\",\n",
        "    batch_size=batch_size,\n",
        "    image_size=image_size,\n",
        "    shuffle=True,\n",
        "    seed=None,\n",
        "    validation_split=None,\n",
        "    subset=None,\n",
        "    interpolation=\"bilinear\",\n",
        "    follow_links=False,\n",
        "    crop_to_aspect_ratio=False,\n",
        ")\n",
        "\n",
        "WA_emotion_dataset_val = tf.keras.preprocessing.image_dataset_from_directory(\n",
        "    '/wikiart-emotion-dataset/content/data/validation',\n",
        "    labels=\"inferred\",\n",
        "    label_mode=\"categorical\",\n",
        "    class_names=None,\n",
        "    color_mode=\"rgb\",\n",
        "    batch_size=batch_size,\n",
        "    image_size=image_size,\n",
        "    shuffle=True,\n",
        "    seed=None,\n",
        "    validation_split=None,\n",
        "    subset=None,\n",
        "    interpolation=\"bilinear\",\n",
        "    follow_links=False,\n",
        "    crop_to_aspect_ratio=False,\n",
        ")\n",
        "\n",
        "WA_emotion_dataset_test = tf.keras.preprocessing.image_dataset_from_directory(\n",
        "    '/wikiart-emotion-dataset/content/data/test',\n",
        "    labels=\"inferred\",\n",
        "    label_mode=\"categorical\",\n",
        "    class_names=None,\n",
        "    color_mode=\"rgb\",\n",
        "    batch_size=batch_size,\n",
        "    image_size=image_size,\n",
        "    shuffle=True,\n",
        "    seed=None,\n",
        "    validation_split=None,\n",
        "    subset=None,\n",
        "    interpolation=\"bilinear\",\n",
        "    follow_links=False,\n",
        "    crop_to_aspect_ratio=False,\n",
        ")"
      ],
      "metadata": {
        "id": "Eckqjg5_-Kcl",
        "colab": {
          "base_uri": "https://localhost:8080/"
        },
        "outputId": "4e0c9c3a-03ce-40d6-bb9a-979b5cf79500"
      },
      "execution_count": null,
      "outputs": [
        {
          "output_type": "stream",
          "name": "stdout",
          "text": [
            "Found 2955 files belonging to 3 classes.\n",
            "Found 329 files belonging to 3 classes.\n",
            "Found 820 files belonging to 3 classes.\n"
          ]
        }
      ]
    },
    {
      "cell_type": "code",
      "source": [
        "IM_emotion_dataset_train = tf.keras.preprocessing.image_dataset_from_directory(\n",
        "    '/emotion-dataset/content/data/train',\n",
        "    labels=\"inferred\",\n",
        "    label_mode=\"categorical\",\n",
        "    class_names=None,\n",
        "    color_mode=\"rgb\",\n",
        "    batch_size=batch_size,\n",
        "    image_size=image_size,\n",
        "    shuffle=True,\n",
        "    seed=None,\n",
        "    validation_split=None,\n",
        "    subset=None,\n",
        "    interpolation=\"bilinear\",\n",
        "    follow_links=False,\n",
        "    crop_to_aspect_ratio=False,\n",
        ")\n",
        "\n",
        "IM_emotion_dataset_val = tf.keras.preprocessing.image_dataset_from_directory(\n",
        "    '/emotion-dataset/content/data/validation',\n",
        "    labels=\"inferred\",\n",
        "    label_mode=\"categorical\",\n",
        "    class_names=None,\n",
        "    color_mode=\"rgb\",\n",
        "    batch_size=batch_size,\n",
        "    image_size=image_size,\n",
        "    shuffle=True,\n",
        "    seed=None,\n",
        "    validation_split=None,\n",
        "    subset=None,\n",
        "    interpolation=\"bilinear\",\n",
        "    follow_links=False,\n",
        "    crop_to_aspect_ratio=False,\n",
        ")\n",
        "\n",
        "IM_emotion_dataset_test = tf.keras.preprocessing.image_dataset_from_directory(\n",
        "    '/emotion-dataset/content/data/test',\n",
        "    labels=\"inferred\",\n",
        "    label_mode=\"categorical\",\n",
        "    class_names=None,\n",
        "    color_mode=\"rgb\",\n",
        "    batch_size=batch_size,\n",
        "    image_size=image_size,\n",
        "    shuffle=True,\n",
        "    seed=None,\n",
        "    validation_split=None,\n",
        "    subset=None,\n",
        "    interpolation=\"bilinear\",\n",
        "    follow_links=False,\n",
        "    crop_to_aspect_ratio=False,\n",
        ")"
      ],
      "metadata": {
        "id": "Zv722Zoc-KfL",
        "colab": {
          "base_uri": "https://localhost:8080/"
        },
        "outputId": "43add8df-f895-4e92-bd67-d1209b120c68"
      },
      "execution_count": null,
      "outputs": [
        {
          "output_type": "stream",
          "name": "stdout",
          "text": [
            "Found 9100 files belonging to 3 classes.\n",
            "Found 4436 files belonging to 3 classes.\n",
            "Found 6735 files belonging to 3 classes.\n"
          ]
        }
      ]
    },
    {
      "cell_type": "markdown",
      "source": [
        "# Load Model"
      ],
      "metadata": {
        "id": "30TwWV2q-drL"
      }
    },
    {
      "cell_type": "code",
      "source": [
        "model = keras.models.load_model('/content/drive/MyDrive/Data Science - Master Notes/DL4CV Final Project/resnet50_512_256_3_earlystop_accuracy_layernormalization')"
      ],
      "metadata": {
        "id": "CuhaAqgk87FO"
      },
      "execution_count": null,
      "outputs": []
    },
    {
      "cell_type": "markdown",
      "source": [
        "# Evaluate Model"
      ],
      "metadata": {
        "id": "U-U01cds-hKd"
      }
    },
    {
      "cell_type": "markdown",
      "source": [
        "## PreProcess"
      ],
      "metadata": {
        "id": "f-mIJjtJNbZ_"
      }
    },
    {
      "cell_type": "code",
      "source": [
        "def get_X_y(dataset):\n",
        "  X_test = []\n",
        "  y_test = []\n",
        "  for images, labels in dataset.unbatch():\n",
        "    X_test.append(images.numpy())\n",
        "    y_test.append(labels.numpy())\n",
        "  X_test = np.array(X_test)\n",
        "  y_test = np.argmax(y_test, axis=1)\n",
        "\n",
        "  return X_test, y_test"
      ],
      "metadata": {
        "id": "b_W1E4ikPMZ1"
      },
      "execution_count": null,
      "outputs": []
    },
    {
      "cell_type": "code",
      "source": [
        "def predict(model, X):\n",
        "  y_pred = model.predict(X)\n",
        "  y_pred_classes = np.argmax(y_pred, axis=1)\n",
        "  return y_pred_classes\n"
      ],
      "metadata": {
        "id": "c0nQrvq7PeB2"
      },
      "execution_count": null,
      "outputs": []
    },
    {
      "cell_type": "code",
      "source": [
        "all_X_test, all_y_test = get_X_y(emotion_dataset_test)\n",
        "wa_X_test, wa_y_test = get_X_y(WA_emotion_dataset_test)\n",
        "im_X_test, im_y_test = get_X_y(IM_emotion_dataset_test)\n",
        "\n",
        "test_data = {\n",
        "    'WikiArt': {\n",
        "        'X_test': wa_X_test,\n",
        "        'y_test': wa_y_test\n",
        "    },\n",
        "    'Image': {\n",
        "        'X_test': im_X_test,\n",
        "        'y_test': im_y_test\n",
        "    },\n",
        "    'WikiArt and Image': {\n",
        "        'X_test': all_X_test,\n",
        "        'y_test': all_y_test\n",
        "    }\n",
        "}"
      ],
      "metadata": {
        "id": "qu6sl8uzQTmm"
      },
      "execution_count": null,
      "outputs": []
    },
    {
      "cell_type": "markdown",
      "source": [
        "## Report"
      ],
      "metadata": {
        "id": "jncc0xVjNdou"
      }
    },
    {
      "cell_type": "code",
      "source": [
        "def allPredictions(model):\n",
        "  wa_y_pred = predict(model, test_data['WikiArt']['X_test'])\n",
        "  im_y_pred = predict(model, test_data['Image']['X_test'])\n",
        "  all_y_pred = predict(model, test_data['WikiArt and Image']['X_test'])\n",
        "  return wa_y_pred, im_y_pred, all_y_pred"
      ],
      "metadata": {
        "id": "Nyqzns6Jfxnj"
      },
      "execution_count": null,
      "outputs": []
    },
    {
      "cell_type": "code",
      "source": [
        "def printReports(wa_y_pred, im_y_pred, all_y_pred):\n",
        "  print(\"WikiArt\")\n",
        "  print(classification_report(test_data['WikiArt']['y_test'], wa_y_pred, target_names=LABELS))\n",
        "  print()\n",
        "  print(\"Image\")\n",
        "  print(classification_report(test_data['Image']['y_test'], im_y_pred, target_names=LABELS))\n",
        "  print()\n",
        "  print(\"WikiArt and Image\")\n",
        "  print(classification_report(test_data['WikiArt and Image']['y_test'], all_y_pred, target_names=LABELS))\n",
        "  print()"
      ],
      "metadata": {
        "id": "pIi4CWcrQnAO"
      },
      "execution_count": null,
      "outputs": []
    },
    {
      "cell_type": "code",
      "source": [
        "wa_y_pred, im_y_pred, all_y_pred = allPredictions(model)"
      ],
      "metadata": {
        "colab": {
          "base_uri": "https://localhost:8080/"
        },
        "id": "82vi2yrUgDZo",
        "outputId": "d3af536e-d9a2-47af-dfa8-95a66f5fe4a0"
      },
      "execution_count": null,
      "outputs": [
        {
          "output_type": "stream",
          "name": "stdout",
          "text": [
            "26/26 [==============================] - 31s 1s/step\n",
            "211/211 [==============================] - 237s 1s/step\n",
            "237/237 [==============================] - 269s 1s/step\n"
          ]
        }
      ]
    },
    {
      "cell_type": "code",
      "source": [
        "printReports(wa_y_pred, im_y_pred, all_y_pred)"
      ],
      "metadata": {
        "colab": {
          "base_uri": "https://localhost:8080/"
        },
        "id": "jZsBCy0AJ4EJ",
        "outputId": "5710e075-931c-4350-f148-dd57293f46cc"
      },
      "execution_count": null,
      "outputs": [
        {
          "output_type": "stream",
          "name": "stdout",
          "text": [
            "WikiArt\n",
            "              precision    recall  f1-score   support\n",
            "\n",
            "    negative       0.30      0.48      0.37       164\n",
            "       other       0.68      0.61      0.64       244\n",
            "    positive       0.72      0.59      0.65       412\n",
            "\n",
            "    accuracy                           0.57       820\n",
            "   macro avg       0.57      0.56      0.55       820\n",
            "weighted avg       0.62      0.57      0.59       820\n",
            "\n",
            "\n",
            "Image\n",
            "              precision    recall  f1-score   support\n",
            "\n",
            "    negative       0.63      0.71      0.67      2264\n",
            "       other       0.00      0.00      0.00         0\n",
            "    positive       0.85      0.77      0.81      4471\n",
            "\n",
            "    accuracy                           0.75      6735\n",
            "   macro avg       0.49      0.50      0.49      6735\n",
            "weighted avg       0.78      0.75      0.76      6735\n",
            "\n",
            "\n",
            "WikiArt and Image\n",
            "              precision    recall  f1-score   support\n",
            "\n",
            "    negative       0.60      0.70      0.64      2428\n",
            "       other       0.44      0.61      0.51       244\n",
            "    positive       0.84      0.76      0.80      4883\n",
            "\n",
            "    accuracy                           0.73      7555\n",
            "   macro avg       0.63      0.69      0.65      7555\n",
            "weighted avg       0.75      0.73      0.74      7555\n",
            "\n",
            "\n"
          ]
        },
        {
          "output_type": "stream",
          "name": "stderr",
          "text": [
            "/usr/local/lib/python3.8/dist-packages/sklearn/metrics/_classification.py:1318: UndefinedMetricWarning: Recall and F-score are ill-defined and being set to 0.0 in labels with no true samples. Use `zero_division` parameter to control this behavior.\n",
            "  _warn_prf(average, modifier, msg_start, len(result))\n",
            "/usr/local/lib/python3.8/dist-packages/sklearn/metrics/_classification.py:1318: UndefinedMetricWarning: Recall and F-score are ill-defined and being set to 0.0 in labels with no true samples. Use `zero_division` parameter to control this behavior.\n",
            "  _warn_prf(average, modifier, msg_start, len(result))\n",
            "/usr/local/lib/python3.8/dist-packages/sklearn/metrics/_classification.py:1318: UndefinedMetricWarning: Recall and F-score are ill-defined and being set to 0.0 in labels with no true samples. Use `zero_division` parameter to control this behavior.\n",
            "  _warn_prf(average, modifier, msg_start, len(result))\n"
          ]
        }
      ]
    },
    {
      "cell_type": "code",
      "source": [],
      "metadata": {
        "id": "GuZDSbpfaGcp"
      },
      "execution_count": null,
      "outputs": []
    }
  ]
}